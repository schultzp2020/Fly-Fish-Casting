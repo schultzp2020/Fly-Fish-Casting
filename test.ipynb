{
 "metadata": {
  "language_info": {
   "codemirror_mode": {
    "name": "ipython",
    "version": 3
   },
   "file_extension": ".py",
   "mimetype": "text/x-python",
   "name": "python",
   "nbconvert_exporter": "python",
   "pygments_lexer": "ipython3",
   "version": "3.9.1-final"
  },
  "orig_nbformat": 2,
  "kernelspec": {
   "name": "python3",
   "display_name": "Python 3.9.1 64-bit",
   "metadata": {
    "interpreter": {
     "hash": "7fd7888b683deb6526beb80f0adc0846ace43b47fb0ee89d4125e18e9f8fa6cf"
    }
   }
  }
 },
 "nbformat": 4,
 "nbformat_minor": 2,
 "cells": [
  {
   "cell_type": "code",
   "execution_count": 39,
   "metadata": {},
   "outputs": [],
   "source": [
    "from tqdm.notebook import tqdm, trange\n",
    "import time"
   ]
  },
  {
   "cell_type": "code",
   "execution_count": 57,
   "metadata": {},
   "outputs": [
    {
     "output_type": "display_data",
     "data": {
      "text/plain": "  0%|          | 0/100 [00:00<?, ?it/s]",
      "application/vnd.jupyter.widget-view+json": {
       "version_major": 2,
       "version_minor": 0,
       "model_id": "545c1b40907943ab9f4c29df7e9e1e19"
      }
     },
     "metadata": {}
    }
   ],
   "source": [
    "# Loop with a progress bar\n",
    "pbar = tqdm(total=100, leave=True)\n",
    "\n",
    "start = time.time()\n",
    "pbar.update(10)\n",
    "pbar.refresh()\n",
    "\n",
    "time.sleep(2.5)\n",
    "pbar.reset()\n",
    "\n",
    "pbar.update(5)\n",
    "pbar.close()"
   ]
  },
  {
   "cell_type": "code",
   "execution_count": null,
   "metadata": {},
   "outputs": [],
   "source": []
  }
 ]
}